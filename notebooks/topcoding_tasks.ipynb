{
 "cells": [
  {
   "cell_type": "markdown",
   "metadata": {},
   "source": [
    "Palindrome check"
   ]
  },
  {
   "cell_type": "code",
   "execution_count": 7,
   "metadata": {},
   "outputs": [
    {
     "name": "stdout",
     "output_type": "stream",
     "text": [
      "brbbrbpop\n",
      "popbrbbrb\n"
     ]
    },
    {
     "data": {
      "text/plain": [
       "False"
      ]
     },
     "execution_count": 7,
     "metadata": {},
     "output_type": "execute_result"
    }
   ],
   "source": [
    "import re\n",
    "class Solution(object):\n",
    "    def isPalindrome(self, s):\n",
    "        \"\"\"\n",
    "        :type s: str\n",
    "        :rtype: bool\n",
    "        \"\"\"\n",
    "        self.formatted_string = re.sub(r'[^a-zA-Z0-9]', '', s.lower())\n",
    "        print(self.formatted_string)\n",
    "        self.reverse_string = self.formatted_string[::-1]\n",
    "        print(self.reverse_string)\n",
    "        if self.reverse_string == self.formatted_string:\n",
    "            return True\n",
    "        else:\n",
    "            return False\n",
    "\n",
    "input_string = \"\"\n",
    "check_obj = Solution()\n",
    "check_obj.isPalindrome(f\"{input_string}\")\n",
    "    \n"
   ]
  },
  {
   "cell_type": "markdown",
   "metadata": {},
   "source": [
    "Reverse string"
   ]
  },
  {
   "cell_type": "markdown",
   "metadata": {},
   "source": []
  },
  {
   "cell_type": "code",
   "execution_count": 3,
   "metadata": {},
   "outputs": [
    {
     "data": {
      "text/plain": [
       "' rM gniD'"
      ]
     },
     "execution_count": 3,
     "metadata": {},
     "output_type": "execute_result"
    }
   ],
   "source": [
    "class Solution(object):\n",
    "    def reverseWords(self, s):\n",
    "        \"\"\"\n",
    "        :type s: str\n",
    "        :rtype: str\n",
    "        \"\"\"\n",
    "        words = s.split(' ')\n",
    "        rstring = ''\n",
    "        for word in words:\n",
    "            rstring = rstring + ' ' + word[::-1]\n",
    "        return rstring\n",
    "\n",
    "\n",
    "test_obj = Solution()\n",
    "test_obj.reverseWords(\"Mr Ding\")"
   ]
  },
  {
   "cell_type": "markdown",
   "metadata": {},
   "source": [
    "excel column label to number"
   ]
  },
  {
   "cell_type": "code",
   "execution_count": 51,
   "metadata": {},
   "outputs": [
    {
     "name": "stdout",
     "output_type": "stream",
     "text": [
      "['Z', 'a']\n"
     ]
    },
    {
     "data": {
      "text/plain": [
       "677"
      ]
     },
     "execution_count": 51,
     "metadata": {},
     "output_type": "execute_result"
    }
   ],
   "source": [
    "import string\n",
    "alphabet_list_lower = [letter for letter in string.ascii_lowercase]\n",
    "alphabet_list_lower.insert(0, None)\n",
    "alphabet_list_upper = [letter for letter in string.ascii_uppercase]\n",
    "alphabet_list_upper.insert(0, None)\n",
    "#print(alphabet_list)\n",
    "def titleToNumber(columnTitle: str) -> int:\n",
    "    column_indexes = list(columnTitle)\n",
    "    print(column_indexes)\n",
    "    if len(column_indexes) == 2:\n",
    "        if column_indexes[0] in alphabet_list_lower:\n",
    "            if column_indexes[1] in alphabet_list_lower:\n",
    "                return alphabet_list_lower.index(column_indexes[0])*26 + alphabet_list_lower.index(column_indexes[1]) \n",
    "            else:\n",
    "                return alphabet_list_lower.index(column_indexes[0])*26 + alphabet_list_upper.index(column_indexes[1].upper()) \n",
    "        else:\n",
    "                return alphabet_list_upper.index(column_indexes[0].upper())*26 + alphabet_list_upper.index(column_indexes[1].upper())\n",
    "    elif column_indexes[0] in alphabet_list_lower:\n",
    "        return alphabet_list_lower.index(column_indexes[0])\n",
    "    else:\n",
    "        return alphabet_list_upper.index(column_indexes[0].upper())\n",
    "    \n",
    "         \n",
    "                \n",
    "titleToNumber(\"Za\")\n"
   ]
  }
 ],
 "metadata": {
  "kernelspec": {
   "display_name": "Python 3",
   "language": "python",
   "name": "python3"
  },
  "language_info": {
   "codemirror_mode": {
    "name": "ipython",
    "version": 3
   },
   "file_extension": ".py",
   "mimetype": "text/x-python",
   "name": "python",
   "nbconvert_exporter": "python",
   "pygments_lexer": "ipython3",
   "version": "3.12.1"
  }
 },
 "nbformat": 4,
 "nbformat_minor": 2
}
